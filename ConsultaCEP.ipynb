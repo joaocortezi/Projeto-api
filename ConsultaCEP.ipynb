{
 "cells": [
  {
   "cell_type": "code",
   "execution_count": 1,
   "metadata": {},
   "outputs": [],
   "source": [
    "#Imports\n",
    "\n",
    "import requests "
   ]
  },
  {
   "cell_type": "code",
   "execution_count": 5,
   "metadata": {},
   "outputs": [],
   "source": [
    "#main\n",
    "\n",
    "cep_input = input(\"Digite o CEP para a consulta: \")\n",
    "if len(cep_input) != 8:\n",
    "\tprint(\"Quantidade de dígitos inválida!\")\n",
    "\texit()"
   ]
  },
  {
   "cell_type": "code",
   "execution_count": 3,
   "metadata": {},
   "outputs": [],
   "source": [
    "#Load data  \n",
    "\n",
    "request = requests.get(\"https://viacep.com.br/ws/{}/json/\".format(cep_input))\n",
    "address_data = request.json()"
   ]
  },
  {
   "cell_type": "code",
   "execution_count": 6,
   "metadata": {},
   "outputs": [
    {
     "name": "stdout",
     "output_type": "stream",
     "text": [
      "CEP ENCONTRADO\n",
      "CEP: 27251-085\n",
      "Logradouro: Rua Almirante Barroso\n",
      "Complemento: \n",
      "Bairro: Jardim Amália\n",
      "Cidade: Volta Redonda\n",
      "Estado: RJ\n",
      "---------------------------------\n",
      "Saindo!\n"
     ]
    }
   ],
   "source": [
    "if \"erro\" not in address_data:\n",
    "\t\tprint(\"CEP ENCONTRADO\")\n",
    "\t\t\n",
    "\t\tprint(\"CEP: {}\".format(address_data[\"cep\"]))\n",
    "\t\tprint(\"Logradouro: {}\".format(address_data[\"logradouro\"]))\n",
    "\t\tprint(\"Complemento: {}\".format(address_data[\"complemento\"]))\n",
    "\t\tprint(\"Bairro: {}\".format(address_data[\"bairro\"]))\n",
    "\t\tprint(\"Cidade: {}\".format(address_data[\"localidade\"]))\n",
    "\t\tprint(\"Estado: {}\".format(address_data[\"uf\"]))\n",
    "\n",
    "else:\n",
    "\t\tprint(\"{}: CEP inválido.\".format(cep_input))\n",
    "\n",
    "print(\"---------------------------------\")\n",
    "option = int(input(\"Deseja realizar uma nova consulta ?\\n1. Sim\\n2. Sair\\n\"))\n",
    "if option == 1:\n",
    "\t\tmain()\n",
    "else:\n",
    "\tprint(\"Saindo!\")"
   ]
  },
  {
   "cell_type": "code",
   "execution_count": null,
   "metadata": {},
   "outputs": [],
   "source": []
  }
 ],
 "metadata": {
  "interpreter": {
   "hash": "bdaf18d4c578f2a391672af1b0d92a2d783c11df42ceb6820a12e3a62a71b9ef"
  },
  "kernelspec": {
   "display_name": "Python 3.9.12 ('base')",
   "language": "python",
   "name": "python3"
  },
  "language_info": {
   "codemirror_mode": {
    "name": "ipython",
    "version": 3
   },
   "file_extension": ".py",
   "mimetype": "text/x-python",
   "name": "python",
   "nbconvert_exporter": "python",
   "pygments_lexer": "ipython3",
   "version": "3.9.12"
  },
  "orig_nbformat": 4
 },
 "nbformat": 4,
 "nbformat_minor": 2
}
